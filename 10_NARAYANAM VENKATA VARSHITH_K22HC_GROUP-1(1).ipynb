{
 "cells": [
  {
   "cell_type": "markdown",
   "id": "2b0999cd",
   "metadata": {},
   "source": [
    "Q1: Create two numpy arrays and add the elements of both the arrays and store the result in \n",
    "sumArray."
   ]
  },
  {
   "cell_type": "markdown",
   "id": "722ef78f",
   "metadata": {},
   "source": [
    "DESCRIPTION:\n",
    "    \"\n",
    "We have to create two numpy arrays and add the elements of both the arrays by using \"np.add\" as sum array. Now, we have to print the sum array. "
   ]
  },
  {
   "cell_type": "code",
   "execution_count": null,
   "id": "c3fa209b",
   "metadata": {},
   "outputs": [],
   "source": [
    "import numpy as np\n",
    "x1 = np.array([0, 1, 2, 3])\n",
    "x2 = np.array([4, 5, 6, 7])\n",
    "sum = np.add(x1, x2)\n",
    "print(\"x1:\", x1)\n",
    "print(\"x2:\", x2)\n",
    "print(\"sum:\", sum)"
   ]
  },
  {
   "cell_type": "markdown",
   "id": "6980ab2e",
   "metadata": {},
   "source": [
    "    OUTPUT:\n",
    "        \n",
    "        x1: [0 1 2 3]\n",
    "        x2: [4 5 6 7]\n",
    "        sum: [ 4  6  8 10]"
   ]
  },
  {
   "cell_type": "markdown",
   "id": "2b7f61a1",
   "metadata": {},
   "source": []
  },
  {
   "cell_type": "markdown",
   "id": "8de9e654",
   "metadata": {},
   "source": [
    "Q2: Create a 3X3 array having values from 10-90(interval of 10) and store that in array1. Perform \n",
    "the following tasks:\n",
    "a. Extract the 1st row from the array.\n",
    "b. Extract the last element from the array."
   ]
  },
  {
   "cell_type": "markdown",
   "id": "2b20a824",
   "metadata": {},
   "source": [
    "DESCRPTION:\n",
    "    \n",
    "We have to create a 3x3 array having values from 10 to 90 (interval of 10) by using \"np.squeeze(np.asarray)\". we have to print 1st row from the array and the last element of the array."
   ]
  },
  {
   "cell_type": "code",
   "execution_count": 5,
   "id": "d0576cf5",
   "metadata": {},
   "outputs": [
    {
     "name": "stdout",
     "output_type": "stream",
     "text": [
      "[[10 20 30]\n",
      " [40 50 60]\n",
      " [70 80 90]]\n",
      "[[10 20 30]]\n",
      "90\n"
     ]
    }
   ],
   "source": [
    "import numpy as np\n",
    "x = [[30*y + 10*x for x in range(1, 4)] for y in range(3)]\n",
    "x = np.squeeze(np.asarray(x))\n",
    "print(x)\n",
    "print(x[:1])\n",
    "print(x[2][2])"
   ]
  },
  {
   "cell_type": "markdown",
   "id": "a38f3a85",
   "metadata": {},
   "source": [
    "OUTPUT:\n",
    "    \n",
    "    [[10 20 30]\n",
    "     [40 50 60]\n",
    "     [70 80 90]]\n",
    "    [[10 20 30]]\n",
    "    90"
   ]
  }
 ],
 "metadata": {
  "kernelspec": {
   "display_name": "Python 3 (ipykernel)",
   "language": "python",
   "name": "python3"
  },
  "language_info": {
   "codemirror_mode": {
    "name": "ipython",
    "version": 3
   },
   "file_extension": ".py",
   "mimetype": "text/x-python",
   "name": "python",
   "nbconvert_exporter": "python",
   "pygments_lexer": "ipython3",
   "version": "3.9.12"
  }
 },
 "nbformat": 4,
 "nbformat_minor": 5
}
